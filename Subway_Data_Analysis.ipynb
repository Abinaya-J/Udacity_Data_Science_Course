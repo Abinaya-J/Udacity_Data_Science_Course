{
  "nbformat": 4,
  "nbformat_minor": 0,
  "metadata": {
    "colab": {
      "name": "Subway Data Analysis.ipynb",
      "provenance": [],
      "authorship_tag": "ABX9TyNC3lITonI/dDQJSTJFrMn6",
      "include_colab_link": true
    },
    "kernelspec": {
      "name": "python3",
      "display_name": "Python 3"
    }
  },
  "cells": [
    {
      "cell_type": "markdown",
      "metadata": {
        "id": "view-in-github",
        "colab_type": "text"
      },
      "source": [
        "<a href=\"https://colab.research.google.com/github/Abinaya-J/Udacity_Intro_to_Data_Science/blob/master/Subway_Data_Analysis.ipynb\" target=\"_parent\"><img src=\"https://colab.research.google.com/assets/colab-badge.svg\" alt=\"Open In Colab\"/></a>"
      ]
    },
    {
      "cell_type": "markdown",
      "metadata": {
        "id": "JVQw4MKVVjDc"
      },
      "source": [
        "**Accessing data and converting it into a dataframe**"
      ]
    },
    {
      "cell_type": "code",
      "metadata": {
        "id": "BBykToQ8Vw-T",
        "outputId": "fd626fed-b734-4db5-a3ab-571e530af0ee",
        "colab": {
          "base_uri": "https://localhost:8080/",
          "height": 158
        }
      },
      "source": [
        "import pandas \n",
        "weather_data = pandas.read_csv('/content/weather-underground.csv')\n",
        "print(weather_data.head())"
      ],
      "execution_count": 10,
      "outputs": [
        {
          "output_type": "stream",
          "text": [
            "         date  maxpressurem  maxdewptm  ...  meantempi  maxvism  meantempm\n",
            "0  2011-05-01          1026          6  ...         60       16         16\n",
            "1  2011-05-02          1026         10  ...         57       16         14\n",
            "2  2011-05-03          1021         15  ...         65       16         18\n",
            "3  2011-05-04          1017         14  ...         55       16         13\n",
            "4  2011-05-05          1016          4  ...         56       16         13\n",
            "\n",
            "[5 rows x 70 columns]\n"
          ],
          "name": "stdout"
        }
      ]
    },
    {
      "cell_type": "markdown",
      "metadata": {
        "id": "kMP8iWqWWGa3"
      },
      "source": [
        "**Using SQL queries and functions**\n",
        "\n"
      ]
    },
    {
      "cell_type": "code",
      "metadata": {
        "id": "V-X5tSddYcnp"
      },
      "source": [
        "!pip install -U pandasql\n",
        "import pandasql"
      ],
      "execution_count": null,
      "outputs": []
    },
    {
      "cell_type": "code",
      "metadata": {
        "id": "KagxIwXaWOYV",
        "outputId": "f8db9740-1170-44fa-bb1b-ef8b72290ae2",
        "colab": {
          "base_uri": "https://localhost:8080/",
          "height": 52
        }
      },
      "source": [
        "#Finding the number of rainy days - the query counts the number of rows which have \"1\" under the column named \"rain\"\n",
        "\n",
        "q = \"\"\"SELECT COUNT(date) num_days_rained\n",
        "    FROM weather_data\n",
        "    WHERE CAST(rain AS integer) = 1;\"\"\"\n",
        "\n",
        "rainy_days = pandasql.sqldf(q.lower(), locals())\n",
        "print(rainy_days)"
      ],
      "execution_count": 18,
      "outputs": [
        {
          "output_type": "stream",
          "text": [
            "   num_days_rained\n",
            "0               10\n"
          ],
          "name": "stdout"
        }
      ]
    },
    {
      "cell_type": "code",
      "metadata": {
        "id": "OxO51Y6NbYRc",
        "outputId": "93350a19-61b6-4788-c718-fba8ee67701a",
        "colab": {
          "base_uri": "https://localhost:8080/",
          "height": 70
        }
      },
      "source": [
        "#Finding the maximum temperature on foggy and not foggy days\n",
        "\n",
        "q = \"\"\"SELECT fog,MAX(CAST(maxtempi AS integer)) max_temp\n",
        "    FROM weather_data\n",
        "    GROUP BY 1;\"\"\"\n",
        "\n",
        "max_temp = pandasql.sqldf(q.lower(), locals())\n",
        "print(max_temp)"
      ],
      "execution_count": 21,
      "outputs": [
        {
          "output_type": "stream",
          "text": [
            "   fog  max_temp\n",
            "0    0        86\n",
            "1    1        81\n"
          ],
          "name": "stdout"
        }
      ]
    },
    {
      "cell_type": "code",
      "metadata": {
        "id": "o7rzN9--csh5",
        "outputId": "94afd679-2b4f-4227-b537-b10c26bae6be",
        "colab": {
          "base_uri": "https://localhost:8080/",
          "height": 52
        }
      },
      "source": [
        "#Finding the mean temperature during weekends\n",
        "#cast (strftime('%w', date) as integer) will return 0 if the date is a Sunday or 6 if the date is a Saturday\n",
        "\n",
        "q = \"\"\"SELECT AVG(CAST(meantempi AS integer)) avg_mean_temp\n",
        "    FROM weather_data\n",
        "    WHERE CAST(strftime('%w', date) AS integer) IN (0,6);\"\"\"\n",
        "\n",
        "mean_temp_weekends = pandasql.sqldf(q.lower(), locals())\n",
        "print(mean_temp_weekends)"
      ],
      "execution_count": 22,
      "outputs": [
        {
          "output_type": "stream",
          "text": [
            "   avg_mean_temp\n",
            "0      65.111111\n"
          ],
          "name": "stdout"
        }
      ]
    }
  ]
}