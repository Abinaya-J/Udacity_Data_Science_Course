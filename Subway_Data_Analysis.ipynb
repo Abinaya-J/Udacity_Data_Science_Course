{
  "nbformat": 4,
  "nbformat_minor": 0,
  "metadata": {
    "colab": {
      "name": "Subway Data Analysis.ipynb",
      "provenance": [],
      "authorship_tag": "ABX9TyN+XGuv3zbzqKhYcbltyrLl",
      "include_colab_link": true
    },
    "kernelspec": {
      "name": "python3",
      "display_name": "Python 3"
    }
  },
  "cells": [
    {
      "cell_type": "markdown",
      "metadata": {
        "id": "view-in-github",
        "colab_type": "text"
      },
      "source": [
        "<a href=\"https://colab.research.google.com/github/Abinaya-J/Udacity_Intro_to_Data_Science/blob/master/Subway_Data_Analysis.ipynb\" target=\"_parent\"><img src=\"https://colab.research.google.com/assets/colab-badge.svg\" alt=\"Open In Colab\"/></a>"
      ]
    },
    {
      "cell_type": "markdown",
      "metadata": {
        "id": "JVQw4MKVVjDc"
      },
      "source": [
        "**Accessing data and converting it into a dataframe**"
      ]
    },
    {
      "cell_type": "code",
      "metadata": {
        "id": "BBykToQ8Vw-T",
        "outputId": "bea9da5b-4fb0-4361-f1e4-582d92052fce",
        "colab": {
          "base_uri": "https://localhost:8080/",
          "height": 158
        }
      },
      "source": [
        "import pandas \n",
        "weather_data = pandas.read_csv('/content/weather-underground.csv')\n",
        "print(weather_data.head())"
      ],
      "execution_count": null,
      "outputs": [
        {
          "output_type": "stream",
          "text": [
            "         date  maxpressurem  maxdewptm  ...  meantempi  maxvism  meantempm\n",
            "0  2011-05-01          1026          6  ...         60       16         16\n",
            "1  2011-05-02          1026         10  ...         57       16         14\n",
            "2  2011-05-03          1021         15  ...         65       16         18\n",
            "3  2011-05-04          1017         14  ...         55       16         13\n",
            "4  2011-05-05          1016          4  ...         56       16         13\n",
            "\n",
            "[5 rows x 70 columns]\n"
          ],
          "name": "stdout"
        }
      ]
    },
    {
      "cell_type": "markdown",
      "metadata": {
        "id": "kMP8iWqWWGa3"
      },
      "source": [
        "**Using SQL queries and functions**\n",
        "\n"
      ]
    },
    {
      "cell_type": "code",
      "metadata": {
        "id": "V-X5tSddYcnp"
      },
      "source": [
        "!pip install -U pandasql\n",
        "import pandasql"
      ],
      "execution_count": null,
      "outputs": []
    },
    {
      "cell_type": "code",
      "metadata": {
        "id": "KagxIwXaWOYV",
        "outputId": "99e4f6df-bd94-46c5-aedd-22b2800f65a8",
        "colab": {
          "base_uri": "https://localhost:8080/",
          "height": 52
        }
      },
      "source": [
        "#Finding the number of rainy days - the query counts the number of rows which have \"1\" under the column named \"rain\"\n",
        "\n",
        "q = \"\"\"SELECT COUNT(date) num_days_rained\n",
        "    FROM weather_data\n",
        "    WHERE CAST(rain AS integer) = 1;\"\"\"\n",
        "\n",
        "rainy_days = pandasql.sqldf(q.lower(), locals())\n",
        "print(rainy_days)"
      ],
      "execution_count": null,
      "outputs": [
        {
          "output_type": "stream",
          "text": [
            "   num_days_rained\n",
            "0               10\n"
          ],
          "name": "stdout"
        }
      ]
    },
    {
      "cell_type": "code",
      "metadata": {
        "id": "OxO51Y6NbYRc",
        "outputId": "dfcd2461-24b6-4a41-a15d-5da73435c141",
        "colab": {
          "base_uri": "https://localhost:8080/",
          "height": 70
        }
      },
      "source": [
        "#Finding the maximum temperature on foggy and not foggy days\n",
        "\n",
        "q = \"\"\"SELECT fog,MAX(CAST(maxtempi AS integer)) max_temp\n",
        "    FROM weather_data\n",
        "    GROUP BY 1;\"\"\"\n",
        "\n",
        "max_temp = pandasql.sqldf(q.lower(), locals())\n",
        "print(max_temp)"
      ],
      "execution_count": null,
      "outputs": [
        {
          "output_type": "stream",
          "text": [
            "   fog  max_temp\n",
            "0    0        86\n",
            "1    1        81\n"
          ],
          "name": "stdout"
        }
      ]
    },
    {
      "cell_type": "code",
      "metadata": {
        "id": "o7rzN9--csh5",
        "outputId": "fcd08b0e-7104-409c-d02c-ea251596353d",
        "colab": {
          "base_uri": "https://localhost:8080/",
          "height": 52
        }
      },
      "source": [
        "#Finding the mean temperature during weekends\n",
        "#cast (strftime('%w', date) as integer) will return 0 if the date is a Sunday or 6 if the date is a Saturday\n",
        "\n",
        "q = \"\"\"SELECT AVG(CAST(meantempi AS integer)) avg_mean_temp\n",
        "    FROM weather_data\n",
        "    WHERE CAST(strftime('%w', date) AS integer) IN (0,6);\"\"\"\n",
        "\n",
        "mean_temp_weekends = pandasql.sqldf(q.lower(), locals())\n",
        "print(mean_temp_weekends)"
      ],
      "execution_count": null,
      "outputs": [
        {
          "output_type": "stream",
          "text": [
            "   avg_mean_temp\n",
            "0      65.111111\n"
          ],
          "name": "stdout"
        }
      ]
    },
    {
      "cell_type": "code",
      "metadata": {
        "id": "hOWNOmbPisDN",
        "outputId": "afee1277-a72a-42b1-a746-bfcb52bd9304",
        "colab": {
          "base_uri": "https://localhost:8080/",
          "height": 105
        }
      },
      "source": [
        "#Finding the mean temperature, pressure and dew on rainy/not rainy and foggy/not foggy days\n",
        "\n",
        "q = \"\"\"SELECT fog, rain , AVG(CAST(meantempi AS integer)) mean_temp, AVG(CAST(meandewpti AS integer)) mean_dew, AVG(CAST(meanpressurei AS integer)) mean_pressure\n",
        "    FROM weather_data\n",
        "    GROUP BY 1,2;\"\"\"\n",
        "\n",
        "all_mean = pandasql.sqldf(q.lower(), locals())\n",
        "print(all_mean)"
      ],
      "execution_count": null,
      "outputs": [
        {
          "output_type": "stream",
          "text": [
            "   fog  rain  mean_temp   mean_dew  mean_pressure\n",
            "0    0     0  64.526316  49.263158      29.421053\n",
            "1    0     1  62.500000  57.333333      29.166667\n",
            "2    1     0  74.000000  64.000000      29.000000\n",
            "3    1     1  63.500000  59.500000      29.250000\n"
          ],
          "name": "stdout"
        }
      ]
    },
    {
      "cell_type": "markdown",
      "metadata": {
        "id": "V7165mVxMMS0"
      },
      "source": [
        " \n",
        "**Applying statistics**\n",
        "*   Mann Whitney U-test\n",
        "\n"
      ]
    },
    {
      "cell_type": "code",
      "metadata": {
        "id": "4uIOJG8iMdMs"
      },
      "source": [
        "import numpy as np\n",
        "import scipy\n",
        "import scipy.stats\n",
        "import pandas"
      ],
      "execution_count": 1,
      "outputs": []
    },
    {
      "cell_type": "code",
      "metadata": {
        "id": "vOxVfA4_NbrN",
        "outputId": "858e119c-a3e6-482c-bf7b-5fad7fb19c0f",
        "colab": {
          "base_uri": "https://localhost:8080/",
          "height": 52
        }
      },
      "source": [
        "turnstile_weather= pandas.read_csv('/content/turnstile_data_master_with_weather.csv')\n",
        "\n",
        "with_rain = turnstile_weather[turnstile_weather['rain']==1]['ENTRIESn_hourly']\n",
        "without_rain = turnstile_weather[turnstile_weather['rain']==0]['ENTRIESn_hourly']\n",
        "\n",
        "with_rain_mean = np.mean(with_rain)\n",
        "without_rain_mean = np.mean(without_rain)\n",
        "\n",
        "print('Mean of entries with rain: {}'.format(with_rain_mean))\n",
        "print('Mean of entries without rain: {}'.format(without_rain_mean))"
      ],
      "execution_count": 6,
      "outputs": [
        {
          "output_type": "stream",
          "text": [
            "Mean of entries with rain: 1105.4463767458733\n",
            "Mean of entries without rain: 1090.278780151855\n"
          ],
          "name": "stdout"
        }
      ]
    },
    {
      "cell_type": "code",
      "metadata": {
        "id": "EG6zV2JtM_BC",
        "outputId": "2c38d54c-e96f-44b7-e503-a414d93b8624",
        "colab": {
          "base_uri": "https://localhost:8080/",
          "height": 34
        }
      },
      "source": [
        "#Two sided test\n",
        "U,p = scipy.stats.mannwhitneyu(with_rain,without_rain, alternative ='two-sided')\n",
        "print(p)"
      ],
      "execution_count": 13,
      "outputs": [
        {
          "output_type": "stream",
          "text": [
            "0.04988078458898671\n"
          ],
          "name": "stdout"
        }
      ]
    },
    {
      "cell_type": "code",
      "metadata": {
        "id": "N1IOGhc9A5H3",
        "outputId": "72f43693-e0ae-454c-955b-8e1079120f9c",
        "colab": {
          "base_uri": "https://localhost:8080/",
          "height": 34
        }
      },
      "source": [
        "#One sided test\n",
        "#Null hypothesis - Ridership without rain is less or equal to ridership without rain\n",
        "#Alternative hypothesis -Ridership without rain is greater than ridership with rain\n",
        "\n",
        "U,p = scipy.stats.mannwhitneyu(with_rain,without_rain, alternative ='greater')\n",
        "\n",
        "print('p value for the one sided test : {}'.format(p))"
      ],
      "execution_count": 11,
      "outputs": [
        {
          "output_type": "stream",
          "text": [
            "p value for the one sided test : 0.024940392294493356\n"
          ],
          "name": "stdout"
        }
      ]
    },
    {
      "cell_type": "markdown",
      "metadata": {
        "id": "7SX4A40vN9kY"
      },
      "source": [
        "**Visualizing analysis**\n",
        "\n",
        "*   Histogram\n",
        "*   Line chart\n",
        "*   Scatter plot\n",
        "\n",
        "\n",
        "\n"
      ]
    },
    {
      "cell_type": "code",
      "metadata": {
        "id": "o9pzLI1ZODVh",
        "outputId": "9b6dbbac-a2de-49c3-cb26-f82cc66034c7",
        "colab": {
          "base_uri": "https://localhost:8080/",
          "height": 315
        }
      },
      "source": [
        "import matplotlib.pyplot as plt\n",
        "\n",
        "plt.figure()\n",
        "\n",
        "# code to plot a historgram for hourly entries when it is not raining\n",
        "non_rainy_data = turnstile_weather[turnstile_weather['rain'] == 0]['ENTRIESn_hourly']\n",
        "non_rainy_data.hist(range = [0, 5000], bins = 25, label='No Rain')\n",
        "\n",
        "# code to plot a historgram for hourly entries when it is raining\n",
        "rainy_data = turnstile_weather[turnstile_weather['rain'] == 1]['ENTRIESn_hourly']\n",
        "rainy_data.hist(range = [0, 5000], bins = 20, label='Rain')\n",
        "\n",
        "plt.xlabel('ENTRIESn_hourly')\n",
        "plt.ylabel('Frequency')\n",
        "plt.legend()\n",
        "\n",
        "plt.figure()"
      ],
      "execution_count": null,
      "outputs": [
        {
          "output_type": "execute_result",
          "data": {
            "text/plain": [
              "<Figure size 432x288 with 0 Axes>"
            ]
          },
          "metadata": {
            "tags": []
          },
          "execution_count": 11
        },
        {
          "output_type": "display_data",
          "data": {
            "image/png": "[encoded data removed]",
            "text/plain": [
              "<Figure size 432x288 with 1 Axes>"
            ]
          },
          "metadata": {
            "tags": [],
            "needs_background": "light"
          }
        },
        {
          "output_type": "display_data",
          "data": {
            "text/plain": [
              "<Figure size 432x288 with 0 Axes>"
            ]
          },
          "metadata": {
            "tags": []
          }
        }
      ]
    },
    {
      "cell_type": "code",
      "metadata": {
        "id": "CVSYWPm8WxKG"
      },
      "source": [
        "!pip install ggplot"
      ],
      "execution_count": null,
      "outputs": []
    },
    {
      "cell_type": "code",
      "metadata": {
        "id": "9O7LnVfVyPMW"
      },
      "source": [
        "!pip install pandas plotnine"
      ],
      "execution_count": null,
      "outputs": []
    },
    {
      "cell_type": "code",
      "metadata": {
        "id": "y68ido4YSd6n",
        "outputId": "91929b9c-1b99-4e74-e1c7-d4c5a4aaceb0",
        "colab": {
          "base_uri": "https://localhost:8080/",
          "height": 158
        }
      },
      "source": [
        "# Line chart to show the changes in average ridership during different days of the week\n",
        "\n",
        "from plotnine import *\n",
        "\n",
        "turnstile_weather= pandas.read_csv('/content/turnstile_data_master_with_weather.csv')\n",
        "df = turnstile_weather[['DATEn', 'ENTRIESn_hourly']]\n",
        "\n",
        "#cast (strftime('%w', date) as integer) will return 0 if the date is a Sunday or 6 if the date is a Saturday\n",
        "\n",
        "q = \"\"\"SELECT CAST(strftime('%w', DATEn) AS integer) AS day_of_week,SUM(ENTRIESn_hourly)/count(*) AS hourlyentries\n",
        "       FROM df\n",
        "       GROUP BY CAST(strftime('%w', DATEn) AS integer); \"\"\"\n",
        "\n",
        "#Execute SQL command against the pandas dataframe\n",
        "plot_data = pandasql.sqldf(q.lower(), locals())\n",
        "print(plot_data)\n",
        "\n"
      ],
      "execution_count": null,
      "outputs": [
        {
          "output_type": "stream",
          "text": [
            "   day_of_week  hourlyentries\n",
            "0            0     604.620120\n",
            "1            1    1084.888769\n",
            "2            2    1307.073259\n",
            "3            3    1335.901803\n",
            "4            4    1305.176382\n",
            "5            5    1333.800773\n",
            "6            6     809.925317\n"
          ],
          "name": "stdout"
        }
      ]
    },
    {
      "cell_type": "code",
      "metadata": {
        "id": "bBKcCJ7ez1r8",
        "outputId": "be7cbea5-515f-4f66-d671-b5a8ae6530b2",
        "colab": {
          "base_uri": "https://localhost:8080/",
          "height": 492
        }
      },
      "source": [
        "ggplot(plot_data, aes('day_of_week', 'hourlyentries')) + geom_line(color='red') +  ggtitle('Average ENTRIESn_hourly by day of week') + ylab('ENTRIESn_hourly') + xlab('Day of week')"
      ],
      "execution_count": null,
      "outputs": [
        {
          "output_type": "display_data",
          "data": {
            "image/png": "[encoded data removed]",
            "text/plain": [
              "<Figure size 640x480 with 1 Axes>"
            ]
          },
          "metadata": {
            "tags": []
          }
        },
        {
          "output_type": "execute_result",
          "data": {
            "text/plain": [
              "<ggplot: (-9223363303454345440)>"
            ]
          },
          "metadata": {
            "tags": []
          },
          "execution_count": 27
        }
      ]
    },
    {
      "cell_type": "code",
      "metadata": {
        "id": "AgtQtcG0SwCM",
        "outputId": "6c5e1e38-d02a-41a8-ca6b-624b20b08f68",
        "colab": {
          "base_uri": "https://localhost:8080/",
          "height": 158
        }
      },
      "source": [
        "df_1 = turnstile_weather[['DATEn', 'meantempi']]\n",
        "\n",
        "s = \"\"\"SELECT CAST(strftime('%w', DATEn) AS integer) AS day_of_week, AVG(CAST(meantempi AS integer)) AS mean_temperature\n",
        "       FROM df_1\n",
        "       GROUP BY cast(strftime('%w', DATEn) AS integer); \"\"\"\n",
        "\n",
        "scatter_data = pandasql.sqldf(s.lower(), locals())\n",
        "print(scatter_data)"
      ],
      "execution_count": null,
      "outputs": [
        {
          "output_type": "stream",
          "text": [
            "   day_of_week  mean_temperature\n",
            "0            0         63.573329\n",
            "1            1         63.313146\n",
            "2            2         64.716738\n",
            "3            3         63.267717\n",
            "4            4         64.488024\n",
            "5            5         63.960328\n",
            "6            6         67.020761\n"
          ],
          "name": "stdout"
        }
      ]
    },
    {
      "cell_type": "code",
      "metadata": {
        "id": "fUq9jIhuz7EZ",
        "outputId": "fddfaee5-f2b9-42cb-e6a7-c1d031c703d2",
        "colab": {
          "base_uri": "https://localhost:8080/",
          "height": 491
        }
      },
      "source": [
        "ggplot(scatter_data, aes('day_of_week', 'mean_temperature')) + geom_point(color='blue') +  ggtitle('Mean temperature recorded by day of week') + ylab('Mean temperature') + xlab('Day of week')"
      ],
      "execution_count": null,
      "outputs": [
        {
          "output_type": "display_data",
          "data": {
            "image/png": "[encoded data removed]",
            "text/plain": [
              "<Figure size 640x480 with 1 Axes>"
            ]
          },
          "metadata": {
            "tags": []
          }
        },
        {
          "output_type": "execute_result",
          "data": {
            "text/plain": [
              "<ggplot: (8733420850871)>"
            ]
          },
          "metadata": {
            "tags": []
          },
          "execution_count": 29
        }
      ]
    }
  ]
}