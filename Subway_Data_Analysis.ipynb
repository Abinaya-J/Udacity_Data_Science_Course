{
  "nbformat": 4,
  "nbformat_minor": 0,
  "metadata": {
    "colab": {
      "name": "Subway Data Analysis.ipynb",
      "provenance": [],
      "authorship_tag": "ABX9TyPHkCXuqJ83LMlwQUJdGrlE",
      "include_colab_link": true
    },
    "kernelspec": {
      "name": "python3",
      "display_name": "Python 3"
    }
  },
  "cells": [
    {
      "cell_type": "markdown",
      "metadata": {
        "id": "view-in-github",
        "colab_type": "text"
      },
      "source": [
        "<a href=\"https://colab.research.google.com/github/Abinaya-J/Udacity_Intro_to_Data_Science/blob/master/Subway_Data_Analysis.ipynb\" target=\"_parent\"><img src=\"https://colab.research.google.com/assets/colab-badge.svg\" alt=\"Open In Colab\"/></a>"
      ]
    },
    {
      "cell_type": "markdown",
      "metadata": {
        "id": "JVQw4MKVVjDc"
      },
      "source": [
        "**Accessing data and converting it into a dataframe**"
      ]
    },
    {
      "cell_type": "code",
      "metadata": {
        "id": "BBykToQ8Vw-T",
        "outputId": "fd626fed-b734-4db5-a3ab-571e530af0ee",
        "colab": {
          "base_uri": "https://localhost:8080/",
          "height": 158
        }
      },
      "source": [
        "import pandas \n",
        "weather_data = pandas.read_csv('/content/weather-underground.csv')\n",
        "print(weather_data.head())"
      ],
      "execution_count": null,
      "outputs": [
        {
          "output_type": "stream",
          "text": [
            "         date  maxpressurem  maxdewptm  ...  meantempi  maxvism  meantempm\n",
            "0  2011-05-01          1026          6  ...         60       16         16\n",
            "1  2011-05-02          1026         10  ...         57       16         14\n",
            "2  2011-05-03          1021         15  ...         65       16         18\n",
            "3  2011-05-04          1017         14  ...         55       16         13\n",
            "4  2011-05-05          1016          4  ...         56       16         13\n",
            "\n",
            "[5 rows x 70 columns]\n"
          ],
          "name": "stdout"
        }
      ]
    },
    {
      "cell_type": "markdown",
      "metadata": {
        "id": "kMP8iWqWWGa3"
      },
      "source": [
        "**Using SQL queries and functions**\n",
        "\n"
      ]
    },
    {
      "cell_type": "code",
      "metadata": {
        "id": "V-X5tSddYcnp"
      },
      "source": [
        "!pip install -U pandasql\n",
        "import pandasql"
      ],
      "execution_count": null,
      "outputs": []
    },
    {
      "cell_type": "code",
      "metadata": {
        "id": "KagxIwXaWOYV",
        "outputId": "f8db9740-1170-44fa-bb1b-ef8b72290ae2",
        "colab": {
          "base_uri": "https://localhost:8080/",
          "height": 52
        }
      },
      "source": [
        "#Finding the number of rainy days - the query counts the number of rows which have \"1\" under the column named \"rain\"\n",
        "\n",
        "q = \"\"\"SELECT COUNT(date) num_days_rained\n",
        "    FROM weather_data\n",
        "    WHERE CAST(rain AS integer) = 1;\"\"\"\n",
        "\n",
        "rainy_days = pandasql.sqldf(q.lower(), locals())\n",
        "print(rainy_days)"
      ],
      "execution_count": null,
      "outputs": [
        {
          "output_type": "stream",
          "text": [
            "   num_days_rained\n",
            "0               10\n"
          ],
          "name": "stdout"
        }
      ]
    },
    {
      "cell_type": "code",
      "metadata": {
        "id": "OxO51Y6NbYRc",
        "outputId": "93350a19-61b6-4788-c718-fba8ee67701a",
        "colab": {
          "base_uri": "https://localhost:8080/",
          "height": 70
        }
      },
      "source": [
        "#Finding the maximum temperature on foggy and not foggy days\n",
        "\n",
        "q = \"\"\"SELECT fog,MAX(CAST(maxtempi AS integer)) max_temp\n",
        "    FROM weather_data\n",
        "    GROUP BY 1;\"\"\"\n",
        "\n",
        "max_temp = pandasql.sqldf(q.lower(), locals())\n",
        "print(max_temp)"
      ],
      "execution_count": null,
      "outputs": [
        {
          "output_type": "stream",
          "text": [
            "   fog  max_temp\n",
            "0    0        86\n",
            "1    1        81\n"
          ],
          "name": "stdout"
        }
      ]
    },
    {
      "cell_type": "code",
      "metadata": {
        "id": "o7rzN9--csh5",
        "outputId": "94afd679-2b4f-4227-b537-b10c26bae6be",
        "colab": {
          "base_uri": "https://localhost:8080/",
          "height": 52
        }
      },
      "source": [
        "#Finding the mean temperature during weekends\n",
        "#cast (strftime('%w', date) as integer) will return 0 if the date is a Sunday or 6 if the date is a Saturday\n",
        "\n",
        "q = \"\"\"SELECT AVG(CAST(meantempi AS integer)) avg_mean_temp\n",
        "    FROM weather_data\n",
        "    WHERE CAST(strftime('%w', date) AS integer) IN (0,6);\"\"\"\n",
        "\n",
        "mean_temp_weekends = pandasql.sqldf(q.lower(), locals())\n",
        "print(mean_temp_weekends)"
      ],
      "execution_count": null,
      "outputs": [
        {
          "output_type": "stream",
          "text": [
            "   avg_mean_temp\n",
            "0      65.111111\n"
          ],
          "name": "stdout"
        }
      ]
    },
    {
      "cell_type": "code",
      "metadata": {
        "id": "hOWNOmbPisDN"
      },
      "source": [
        "#Finding the mean temperature, wind speed, pressure and dew on rainy/not rainy and foggy/not foggy days"
      ],
      "execution_count": null,
      "outputs": []
    },
    {
      "cell_type": "markdown",
      "metadata": {
        "id": "V7165mVxMMS0"
      },
      "source": [
        " \n",
        "**Applying statistics**\n",
        "*   Mann Whitney U-test\n",
        "\n"
      ]
    },
    {
      "cell_type": "code",
      "metadata": {
        "id": "4uIOJG8iMdMs"
      },
      "source": [
        "import numpy as np\n",
        "import scipy\n",
        "import scipy.stats\n",
        "import pandas"
      ],
      "execution_count": 1,
      "outputs": []
    },
    {
      "cell_type": "code",
      "metadata": {
        "id": "vOxVfA4_NbrN",
        "outputId": "95bf7fe5-3f4f-40ee-a1ba-1e4efaa437ee",
        "colab": {
          "base_uri": "https://localhost:8080/",
          "height": 52
        }
      },
      "source": [
        "turnstile_weather= pandas.read_csv('/content/turnstile_data_master_with_weather.csv')\n",
        "\n",
        "with_rain = turnstile_weather[turnstile_weather['rain']==1]['ENTRIESn_hourly']\n",
        "without_rain = turnstile_weather[turnstile_weather['rain']==0]['ENTRIESn_hourly']\n",
        "\n",
        "with_rain_mean = np.mean(with_rain)\n",
        "without_rain_mean = np.mean(without_rain)\n",
        "\n",
        "U,p = scipy.stats.mannwhitneyu(with_rain,without_rain)\n",
        "\n",
        "print(U)\n",
        "print(p)      "
      ],
      "execution_count": 5,
      "outputs": [
        {
          "output_type": "stream",
          "text": [
            "1924409167.0\n",
            "0.024940392294493356\n"
          ],
          "name": "stdout"
        }
      ]
    },
    {
      "cell_type": "markdown",
      "metadata": {
        "id": "7SX4A40vN9kY"
      },
      "source": [
        "**Visualizing analysis**\n",
        "\n",
        "*   Histogram\n",
        "*   Line chart\n",
        "*   Scatter plot\n",
        "\n",
        "\n",
        "\n"
      ]
    },
    {
      "cell_type": "code",
      "metadata": {
        "id": "o9pzLI1ZODVh",
        "outputId": "a91efd7b-eb94-457b-afbf-9056748ba909",
        "colab": {
          "base_uri": "https://localhost:8080/",
          "height": 315
        }
      },
      "source": [
        "import matplotlib.pyplot as plt\n",
        "\n",
        "plt.figure()\n",
        "\n",
        "# code to plot a historgram for hourly entries when it is not raining\n",
        "non_rainy_data = turnstile_weather[turnstile_weather['rain'] == 0]['ENTRIESn_hourly']\n",
        "non_rainy_data.hist(range = [0, 5000], bins = 25, label='No Rain')\n",
        "\n",
        "# code to plot a historgram for hourly entries when it is raining\n",
        "rainy_data = turnstile_weather[turnstile_weather['rain'] == 1]['ENTRIESn_hourly']\n",
        "rainy_data.hist(range = [0, 5000], bins = 20, label='Rain')\n",
        "\n",
        "plt.xlabel('ENTRIESn_hourly')\n",
        "plt.ylabel('Frequency')\n",
        "plt.legend()\n",
        "\n",
        "plt.figure()"
      ],
      "execution_count": 6,
      "outputs": [
        {
          "output_type": "execute_result",
          "data": {
            "text/plain": [
              "<Figure size 432x288 with 0 Axes>"
            ]
          },
          "metadata": {
            "tags": []
          },
          "execution_count": 6
        },
        {
          "output_type": "display_data",
          "data": {
            "image/png": "[encoded data removed]",
            "text/plain": [
              "<Figure size 432x288 with 1 Axes>"
            ]
          },
          "metadata": {
            "tags": [],
            "needs_background": "light"
          }
        },
        {
          "output_type": "display_data",
          "data": {
            "text/plain": [
              "<Figure size 432x288 with 0 Axes>"
            ]
          },
          "metadata": {
            "tags": []
          }
        }
      ]
    },
    {
      "cell_type": "code",
      "metadata": {
        "id": "y68ido4YSd6n"
      },
      "source": [
        "# Line chart to show the changes in average ridership during different days of the week\n",
        "\n",
        "from ggplot import *\n",
        "df = turnstile_master[['DATEn', 'ENTRIESn_hourly']]\n",
        "\n",
        "q = \"\"\"\n",
        "    SELECT cast(strftime('%w', DATEn) AS integer) AS weekday,\n",
        "           sum(ENTRIESn_hourly)/count(*) AS hourlyentries\n",
        "    FROM df\n",
        "    GROUP BY cast(strftime('%w', DATEn) AS integer)\n",
        "    \"\"\"\n",
        "\n",
        "#Execute SQL command against the pandas frame\n",
        "rainy_days = pandasql.sqldf(q.lower(), locals())\n",
        "\n",
        "print ggplot(rainy_days, aes('weekday', 'hourlyentries')) + \\\n",
        "        geom_bar(fill = '#007ee5', stat='bar') + \\\n",
        "        scale_x_continuous(name='Weekday',\n",
        "                           breaks=[0, 1, 2, 3, 4, 5, 6],\n",
        "                           labels=['Sunday', 'Monday', 'Tuesday', 'Wednesday',\n",
        "                                   'Thursday', 'Friday', 'Saturday']) + \\\n",
        "        ggtitle('Average ENTRIESn_hourly by Weekday') + \\\n",
        "        ylab('ENTRIESn_hourly') + \\\n",
        "        xlim(-.5, 6.5)"
      ],
      "execution_count": null,
      "outputs": []
    },
    {
      "cell_type": "code",
      "metadata": {
        "id": "AgtQtcG0SwCM"
      },
      "source": [
        "mean temp on different days - scatter"
      ],
      "execution_count": null,
      "outputs": []
    }
  ]
}