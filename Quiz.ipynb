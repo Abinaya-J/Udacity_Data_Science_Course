{
  "nbformat": 4,
  "nbformat_minor": 0,
  "metadata": {
    "colab": {
      "name": "Quiz.ipynb",
      "provenance": []
    },
    "kernelspec": {
      "name": "python3",
      "display_name": "Python 3"
    }
  },
  "cells": [
    {
      "cell_type": "code",
      "metadata": {
        "id": "s-U-fbDgIAIW",
        "colab_type": "code",
        "colab": {}
      },
      "source": [
        "# Change False to True to see Matrix indexing and slicing in action\n",
        "if False:\n",
        "    two_D_array = np.array([[1, 2, 3], [4, 5, 6]], float)\n",
        "    print two_D_array\n",
        "    print \"\"\n",
        "    print two_D_array[1][1]\n",
        "    print \"\"\n",
        "    print two_D_array[1, :]\n",
        "    print \"\"\n",
        "    print two_D_array[:, 2]\n",
        "\n",
        "'''\n",
        "Here are some arithmetic operations that you can do with Numpy arrays\n",
        "'''\n",
        "# Change False to True to see Array arithmetics in action\n",
        "if False:\n",
        "    array_1 = np.array([1, 2, 3], float)\n",
        "    array_2 = np.array([5, 2, 6], float)\n",
        "    print array_1 + array_2\n",
        "    print \"\"\n",
        "    print array_1 - array_2\n",
        "    print \"\"\n",
        "    print array_1 * array_2\n",
        "\n",
        "# Change False to True to see Matrix arithmetics in action\n",
        "if False:\n",
        "    array_1 = np.array([[1, 2], [3, 4]], float)\n",
        "    array_2 = np.array([[5, 6], [7, 8]], float)\n",
        "    print array_1 + array_2\n",
        "    print \"\"\n",
        "    print array_1 - array_2\n",
        "    print \"\"\n",
        "    print array_1 * array_2\n",
        "\n",
        "'''\n",
        "In addition to the standard arthimetic operations, Numpy also has a range of\n",
        "other mathematical operations that you can apply to Numpy arrays, such as\n",
        "mean and dot product.\n",
        "\n",
        "Both of these functions will be useful in later programming quizzes.\n",
        "'''\n",
        "if False:\n",
        "    array_1 = np.array([1, 2, 3], float)\n",
        "    array_2 = np.array([[6], [7], [8]], float)\n",
        "    print np.mean(array_1)\n",
        "    print np.mean(array_2)\n",
        "    print \"\"\n",
        "    print np.dot(array_1, array_2)"
      ],
      "execution_count": null,
      "outputs": []
    }
  ]
}