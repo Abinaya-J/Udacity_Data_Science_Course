{
  "nbformat": 4,
  "nbformat_minor": 0,
  "metadata": {
    "colab": {
      "name": "Quiz.ipynb",
      "provenance": []
    },
    "kernelspec": {
      "name": "python3",
      "display_name": "Python 3"
    }
  },
  "cells": [
    {
      "cell_type": "code",
      "metadata": {
        "id": "JQw8Vr8UK5HN",
        "colab_type": "code",
        "colab": {}
      },
      "source": [
        "Pandas also has various functions that will help you understand some basic\n",
        "information about your data frame. Some of these functions are:\n",
        "1) dtypes: to get the datatype for each column\n",
        "2) describe: useful for seeing basic statistics of the dataframe's numerical\n",
        "   columns\n",
        "3) head: displays the first five rows of the dataset\n",
        "4) tail: displays the last five rows of the dataset\n",
        "'''\n",
        "# Change False to True to see these functions in action\n",
        "if True:\n",
        "    data = {'year': [2010, 2011, 2012, 2011, 2012, 2010, 2011, 2012],\n",
        "            'team': ['Bears', 'Bears', 'Bears', 'Packers', 'Packers', 'Lions',\n",
        "                     'Lions', 'Lions'],\n",
        "            'wins': [11, 8, 10, 15, 11, 6, 10, 4],\n",
        "            'losses': [5, 8, 6, 1, 5, 10, 6, 12]}\n",
        "    football = pd.DataFrame(data)\n",
        "    print football.dtypes\n",
        "    print \"\"\n",
        "    print football.describe()\n",
        "    print \"\"\n",
        "    print football.head()\n",
        "    print \"\"\n",
        "    print football.tail()"
      ],
      "execution_count": null,
      "outputs": []
    }
  ]
}