{
  "nbformat": 4,
  "nbformat_minor": 0,
  "metadata": {
    "colab": {
      "name": "Quiz.ipynb",
      "provenance": []
    },
    "kernelspec": {
      "name": "python3",
      "display_name": "Python 3"
    }
  },
  "cells": [
    {
      "cell_type": "code",
      "metadata": {
        "id": "_BU69bKrz0FW",
        "colab_type": "code",
        "colab": {}
      },
      "source": [
        "import pandas as pd\n",
        "\n",
        "'''\n",
        "You can think of a DataFrame as a group of Series that share an index.\n",
        "This makes it easy to select specific columns that you want from the \n",
        "DataFrame. \n",
        "\n",
        "Also a couple pointers:\n",
        "1) Selecting a single column from the DataFrame will return a Series\n",
        "2) Selecting multiple columns from the DataFrame will return a DataFrame\n",
        "\n",
        "*This playground is inspired by Greg Reda's post on Intro to Pandas Data Structures:\n",
        "http://www.gregreda.com/2013/10/26/intro-to-pandas-data-structures/\n",
        "'''\n",
        "# Change False to True to see Series indexing in action\n",
        "if False:\n",
        "    data = {'year': [2010, 2011, 2012, 2011, 2012, 2010, 2011, 2012],\n",
        "            'team': ['Bears', 'Bears', 'Bears', 'Packers', 'Packers', 'Lions',\n",
        "                     'Lions', 'Lions'],\n",
        "            'wins': [11, 8, 10, 15, 11, 6, 10, 4],\n",
        "            'losses': [5, 8, 6, 1, 5, 10, 6, 12]}\n",
        "    football = pd.DataFrame(data)\n",
        "    print football['year']\n",
        "    print ''\n",
        "    print football.year  # shorthand for football['year']\n",
        "    print ''\n",
        "    print football[['year', 'wins', 'losses']]"
      ],
      "execution_count": null,
      "outputs": []
    }
  ]
}