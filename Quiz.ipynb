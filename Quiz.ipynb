{
  "nbformat": 4,
  "nbformat_minor": 0,
  "metadata": {
    "colab": {
      "name": "Quiz.ipynb",
      "provenance": []
    },
    "kernelspec": {
      "name": "python3",
      "display_name": "Python 3"
    }
  },
  "cells": [
    {
      "cell_type": "code",
      "metadata": {
        "id": "tuvbTKhxJprZ",
        "colab_type": "code",
        "colab": {}
      },
      "source": [
        "You can use index to select specific items from the Series\n",
        "'''\n",
        "# Change False to True to see Series indexing in action\n",
        "if False:\n",
        "    series = pd.Series(['Dave', 'Cheng-Han', 359, 9001],\n",
        "                       index=['Instructor', 'Curriculum Manager',\n",
        "                              'Course Number', 'Power Level'])\n",
        "    print series['Instructor']\n",
        "    print \"\"\n",
        "    print series[['Instructor', 'Curriculum Manager', 'Course Number']]\n",
        "\n",
        "'''\n",
        "You can also use boolean operators to select specific items from the Series\n",
        "'''\n",
        "# Change False to True to see boolean indexing in action\n",
        "if True:\n",
        "    cuteness = pd.Series([1, 2, 3, 4, 5], index=['Cockroach', 'Fish', 'Mini Pig',\n",
        "                                                 'Puppy', 'Kitten'])\n",
        "    print cuteness > 3\n",
        "    print \"\"\n",
        "    print cuteness[cuteness > 3]"
      ],
      "execution_count": null,
      "outputs": []
    }
  ]
}