{
  "nbformat": 4,
  "nbformat_minor": 0,
  "metadata": {
    "colab": {
      "name": "Quiz.ipynb",
      "provenance": []
    },
    "kernelspec": {
      "name": "python3",
      "display_name": "Python 3"
    }
  },
  "cells": [
    {
      "cell_type": "code",
      "metadata": {
        "id": "00al2RR4KoS-",
        "colab_type": "code",
        "colab": {}
      },
      "source": [
        "import numpy as np\n",
        "import pandas as pd\n",
        "\n",
        "'''\n",
        "The following code is to help you play with the concept of Dataframe in Pandas.\n",
        "\n",
        "You can think of a Dataframe as something with rows and columns. It is\n",
        "similar to a spreadsheet, a database table, or R's data.frame object.\n",
        "\n",
        "*This playground is inspired by Greg Reda's post on Intro to Pandas Data Structures:\n",
        "http://www.gregreda.com/2013/10/26/intro-to-pandas-data-structures/\n",
        "'''\n",
        "\n",
        "'''\n",
        "To create a dataframe, you can pass a dictionary of lists to the Dataframe\n",
        "constructor:\n",
        "1) The key of the dictionary will be the column name\n",
        "2) The associating list will be the values within that column.\n",
        "'''\n",
        "# Change False to True to see Dataframes in action\n",
        "if False:\n",
        "    data = {'year': [2010, 2011, 2012, 2011, 2012, 2010, 2011, 2012],\n",
        "            'team': ['Bears', 'Bears', 'Bears', 'Packers', 'Packers', 'Lions',\n",
        "                     'Lions', 'Lions'],\n",
        "            'wins': [11, 8, 10, 15, 11, 6, 10, 4],\n",
        "            'losses': [5, 8, 6, 1, 5, 10, 6, 12]}\n",
        "    football = pd.DataFrame(data)\n",
        "    print football"
      ],
      "execution_count": null,
      "outputs": []
    }
  ]
}