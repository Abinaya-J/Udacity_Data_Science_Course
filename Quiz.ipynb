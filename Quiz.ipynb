{
  "nbformat": 4,
  "nbformat_minor": 0,
  "metadata": {
    "colab": {
      "name": "Quiz.ipynb",
      "provenance": []
    },
    "kernelspec": {
      "name": "python3",
      "display_name": "Python 3"
    }
  },
  "cells": [
    {
      "cell_type": "code",
      "metadata": {
        "id": "ifvhDsooGFWu",
        "colab_type": "code",
        "colab": {}
      },
      "source": [
        "def create_dataframe():\n",
        "    '''\n",
        "    Create a pandas dataframe called 'olympic_medal_counts_df' containing\n",
        "    the data from the table of 2014 Sochi winter olympics medal counts.  \n",
        "\n",
        "    The columns for this dataframe should be called \n",
        "    'country_name', 'gold', 'silver', and 'bronze'.  \n",
        "\n",
        "    There is no need to  specify row indexes for this dataframe \n",
        "    (in this case, the rows will automatically be assigned numbered indexes).\n",
        "    \n",
        "    You do not need to call the function in your code when running it in the\n",
        "    browser - the grader will do that automatically when you submit or test it.\n",
        "    '''\n",
        "\n",
        "    countries = ['Russian Fed.', 'Norway', 'Canada', 'United States',\n",
        "                 'Netherlands', 'Germany', 'Switzerland', 'Belarus',\n",
        "                 'Austria', 'France', 'Poland', 'China', 'Korea', \n",
        "                 'Sweden', 'Czech Republic', 'Slovenia', 'Japan',\n",
        "                 'Finland', 'Great Britain', 'Ukraine', 'Slovakia',\n",
        "                 'Italy', 'Latvia', 'Australia', 'Croatia', 'Kazakhstan']\n",
        "\n",
        "    gold = [13, 11, 10, 9, 8, 8, 6, 5, 4, 4, 4, 3, 3, 2, 2, 2, 1, 1, 1, 1, 1, 0, 0, 0, 0, 0]\n",
        "    silver = [11, 5, 10, 7, 7, 6, 3, 0, 8, 4, 1, 4, 3, 7, 4, 2, 4, 3, 1, 0, 0, 2, 2, 2, 1, 0]\n",
        "    bronze = [9, 10, 5, 12, 9, 5, 2, 1, 5, 7, 1, 2, 2, 6, 2, 4, 3, 1, 2, 1, 0, 6, 2, 1, 0, 1]\n",
        "\n",
        "    olympic_medal_counts_df = DataFrame({'country_name' : Series(countries), 'gold' : Series(gold), 'silver' : Series(silver), 'bronze' : Series(bronze)})\n",
        "\n",
        "    return olympic_medal_counts_df"
      ],
      "execution_count": null,
      "outputs": []
    }
  ]
}