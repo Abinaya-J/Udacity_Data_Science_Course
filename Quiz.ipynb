{
  "nbformat": 4,
  "nbformat_minor": 0,
  "metadata": {
    "colab": {
      "name": "Quiz.ipynb",
      "provenance": []
    },
    "kernelspec": {
      "name": "python3",
      "display_name": "Python 3"
    }
  },
  "cells": [
    {
      "cell_type": "code",
      "metadata": {
        "id": "RS6fcSh_Iv5Y",
        "colab_type": "code",
        "colab": {}
      },
      "source": [
        "import pandas as pd\n",
        "\n",
        "'''\n",
        "The following code is to help you play with the concept of Series in Pandas.\n",
        "\n",
        "You can think of Series as an one-dimensional object that is similar to\n",
        "an array, list, or column in a database. By default, it will assign an\n",
        "index label to each item in the Series ranging from 0 to N, where N is\n",
        "the number of items in the Series minus one.\n",
        "\n",
        "Please feel free to play around with the concept of Series and see what it does\n",
        "\n",
        "*This playground is inspired by Greg Reda's post on Intro to Pandas Data Structures:\n",
        "http://www.gregreda.com/2013/10/26/intro-to-pandas-data-structures/\n",
        "'''\n",
        "# Change False to True to create a Series object\n",
        "if True:\n",
        "    series = pd.Series(['Dave', 'Cheng-Han', 'Udacity', 42, -1789710578])\n",
        "    print(series)\n",
        "\n",
        "'''\n",
        "You can also manually assign indices to the items in the Series when\n",
        "creating the series\n",
        "'''\n",
        "\n",
        "# Change False to True to see custom index in action\n",
        "if True:\n",
        "    series = pd.Series(['Dave', 'Cheng-Han', 359, 9001],\n",
        "                       index=['Instructor', 'Curriculum Manager',\n",
        "                              'Course Number', 'Power Level'])\n",
        "    print(series)\n"
      ],
      "execution_count": null,
      "outputs": []
    }
  ]
}