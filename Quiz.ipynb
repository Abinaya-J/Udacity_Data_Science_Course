{
  "nbformat": 4,
  "nbformat_minor": 0,
  "metadata": {
    "colab": {
      "name": "Quiz.ipynb",
      "provenance": []
    },
    "kernelspec": {
      "name": "python3",
      "display_name": "Python 3"
    }
  },
  "cells": [
    {
      "cell_type": "code",
      "metadata": {
        "id": "yZvnHseb0N3n",
        "colab_type": "code",
        "colab": {}
      },
      "source": [
        "Row selection can be done through multiple ways.\n",
        "\n",
        "Some of the basic and common methods are:\n",
        "   1) Slicing\n",
        "   2) An individual index (through the functions iloc or loc)\n",
        "   3) Boolean indexing\n",
        "\n",
        "You can also combine multiple selection requirements through boolean\n",
        "operators like & (and) or | (or)\n",
        "'''\n",
        "# Change False to True to see boolean indexing in action\n",
        "if False:\n",
        "    data = {'year': [2010, 2011, 2012, 2011, 2012, 2010, 2011, 2012],\n",
        "            'team': ['Bears', 'Bears', 'Bears', 'Packers', 'Packers', 'Lions',\n",
        "                     'Lions', 'Lions'],\n",
        "            'wins': [11, 8, 10, 15, 11, 6, 10, 4],\n",
        "            'losses': [5, 8, 6, 1, 5, 10, 6, 12]}\n",
        "    football = pd.DataFrame(data)\n",
        "    print football.iloc[[0]]\n",
        "    print \"\"\n",
        "    print football.loc[[0]]\n",
        "    print \"\"\n",
        "    print football[3:5]\n",
        "    print \"\"\n",
        "    print football[football.wins > 10]\n",
        "    print \"\"\n",
        "    print football[(football.wins > 10) & (football.team == \"Packers\")]"
      ],
      "execution_count": null,
      "outputs": []
    }
  ]
}