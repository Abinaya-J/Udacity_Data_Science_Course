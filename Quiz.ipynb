{
  "nbformat": 4,
  "nbformat_minor": 0,
  "metadata": {
    "colab": {
      "name": "Quiz.ipynb",
      "provenance": []
    },
    "kernelspec": {
      "name": "python3",
      "display_name": "Python 3"
    }
  },
  "cells": [
    {
      "cell_type": "code",
      "metadata": {
        "id": "_fdHM6ufdY9b",
        "colab_type": "code",
        "colab": {}
      },
      "source": [
        "import numpy as np\n",
        "\n",
        "'''\n",
        "The following code is to help you play with Numpy, which is a library \n",
        "that provides functions that are especially useful when you have to\n",
        "work with large arrays and matrices of numeric data, like doing \n",
        "matrix matrix multiplications. Also, Numpy is battle tested and \n",
        "optimized so that it runs fast, much faster than if you were working\n",
        "with Python lists directly.\n",
        "'''\n",
        "\n",
        "'''\n",
        "The array object class is the foundation of Numpy, and Numpy arrays are like\n",
        "lists in Python, except that every thing inside an array must be of the\n",
        "same type, like int or float.\n",
        "'''\n",
        "# Change False to True to see Numpy arrays in action\n",
        "if False:\n",
        "    array = np.array([1, 4, 5, 8], float)\n",
        "    print array\n",
        "    print \"\"\n",
        "    array = np.array([[1, 2, 3], [4, 5, 6]], float)  # a 2D array/Matrix\n",
        "    print array\n",
        "\n",
        "'''\n",
        "You can index, slice, and manipulate a Numpy array much like you would with a\n",
        "a Python list.\n",
        "'''\n",
        "# Change False to True to see array indexing and slicing in action\n",
        "if False:\n",
        "    array = np.array([1, 4, 5, 8], float)\n",
        "    print array\n",
        "    print \"\"\n",
        "    print array[1]\n",
        "    print \"\"\n",
        "    print array[:2]\n",
        "    print \"\"\n",
        "    array[1] = 5.0\n",
        "    print array[1]\n",
        "\n",
        "# Change False to True to see Matrix indexing and slicing in action\n",
        "if False:\n",
        "    two_D_array = np.array([[1, 2, 3], [4, 5, 6]], float)\n",
        "    print two_D_array\n",
        "    print \"\"\n",
        "    print two_D_array[1][1]\n",
        "    print \"\"\n",
        "    print two_D_array[1, :]\n",
        "    print \"\"\n",
        "    print two_D_array[:, 2]\n"
      ],
      "execution_count": null,
      "outputs": []
    }
  ]
}