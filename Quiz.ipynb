{
  "nbformat": 4,
  "nbformat_minor": 0,
  "metadata": {
    "colab": {
      "name": "Quiz.ipynb",
      "provenance": []
    },
    "kernelspec": {
      "name": "python3",
      "display_name": "Python 3"
    }
  },
  "cells": [
    {
      "cell_type": "code",
      "metadata": {
        "id": "FT5QuiPxeSHr",
        "colab_type": "code",
        "colab": {}
      },
      "source": [
        "import numpy\n",
        "from pandas import DataFrame, Series\n",
        "\n",
        "\n",
        "def points():\n",
        "    '''\n",
        "    Imagine a point system in which each country is awarded 4 points for each\n",
        "    gold medal,  2 points for each silver medal, and one point for each \n",
        "    bronze medal.  \n",
        "\n",
        "    Using the numpy.dot function, create a new dataframe called \n",
        "    'olympic_points_df' that includes:\n",
        "        a) a column called 'country_name' with the country name\n",
        "        b) a column called 'points' with the total number of points the country\n",
        "           earned at the Sochi olympics.\n",
        "           \n",
        "    You do not need to call the function in your code when running it in the\n",
        "    browser - the grader will do that automatically when you submit or test it.\n",
        "    '''\n",
        "\n",
        "    countries = ['Russian Fed.', 'Norway', 'Canada', 'United States',\n",
        "                 'Netherlands', 'Germany', 'Switzerland', 'Belarus',\n",
        "                 'Austria', 'France', 'Poland', 'China', 'Korea', \n",
        "                 'Sweden', 'Czech Republic', 'Slovenia', 'Japan',\n",
        "                 'Finland', 'Great Britain', 'Ukraine', 'Slovakia',\n",
        "                 'Italy', 'Latvia', 'Australia', 'Croatia', 'Kazakhstan']\n",
        "\n",
        "    gold = [13, 11, 10, 9, 8, 8, 6, 5, 4, 4, 4, 3, 3, 2, 2, 2, 1, 1, 1, 1, 1, 0, 0, 0, 0, 0]\n",
        "    silver = [11, 5, 10, 7, 7, 6, 3, 0, 8, 4, 1, 4, 3, 7, 4, 2, 4, 3, 1, 0, 0, 2, 2, 2, 1, 0]\n",
        "    bronze = [9, 10, 5, 12, 9, 5, 2, 1, 5, 7, 1, 2, 2, 6, 2, 4, 3, 1, 2, 1, 0, 6, 2, 1, 0, 1]\n",
        " \n",
        "    olympic_medal_counts_df = DataFrame({'country_name' : Series(countries), 'gold' : Series(gold), 'silver' : Series(silver), 'bronze' : Series(bronze)})\n",
        "    \n",
        "    medal_points = olympic_medal_counts_df[['gold','silver','bronze']]\n",
        "    points =numpy.dot(medal_points,[4,2,1])\n",
        "    \n",
        "    olympic_points_df=DataFrame({'country_name' : Series(countries), 'points' : Series(points)})\n",
        "    \n",
        "    return olympic_points_df"
      ],
      "execution_count": null,
      "outputs": []
    }
  ]
}