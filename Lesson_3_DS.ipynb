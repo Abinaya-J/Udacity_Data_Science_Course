{
  "nbformat": 4,
  "nbformat_minor": 0,
  "metadata": {
    "colab": {
      "name": "Lesson 3 DS.ipynb",
      "provenance": [],
      "authorship_tag": "ABX9TyM8ZZxBhXIJjYzmFqPBji77",
      "include_colab_link": true
    },
    "kernelspec": {
      "name": "python3",
      "display_name": "Python 3"
    }
  },
  "cells": [
    {
      "cell_type": "markdown",
      "metadata": {
        "id": "view-in-github",
        "colab_type": "text"
      },
      "source": [
        "<a href=\"https://colab.research.google.com/github/Abinaya-J/Udacity_Intro_to_Data_Science/blob/master/Lesson_3_DS.ipynb\" target=\"_parent\"><img src=\"https://colab.research.google.com/assets/colab-badge.svg\" alt=\"Open In Colab\"/></a>"
      ]
    },
    {
      "cell_type": "code",
      "metadata": {
        "id": "9MNP6iFcsm78"
      },
      "source": [
        "#CSV Exercise\n",
        "\n",
        "import pandas\n",
        "\n",
        "def add_full_name(path_to_csv, path_to_new_csv):\n",
        "    #Assume you will be reading in a csv file with the same columns that the\n",
        "    #Lahman baseball data set has -- most importantly, there are columns\n",
        "    #called 'nameFirst' and 'nameLast'.\n",
        "    #1) Write a function that reads a csv\n",
        "    #located at \"path_to_csv\" into a pandas dataframe and adds a new column\n",
        "    #called 'nameFull' with a player's full name.\n",
        "    #\n",
        "    #For example:\n",
        "    #   for Hank Aaron, nameFull would be 'Hank Aaron', \n",
        "\t#\n",
        "\t#2) Write the data in the pandas dataFrame to a new csv file located at\n",
        "\t#path_to_new_csv\n",
        "\n",
        "    path_to_csv_data = pandas.read_csv(path_to_csv)\n",
        "    path_to_csv_data['nameFull'] = path_to_csv_data['nameFirst'] + ' ' + path_to_csv_data['nameLast'] \n",
        "    path_to_csv_data.to_csv(path_to_new_csv)"
      ],
      "execution_count": null,
      "outputs": []
    },
    {
      "cell_type": "code",
      "metadata": {
        "id": "eRjM80rG7YIU"
      },
      "source": [
        "#Write Your Own Simple Query\n",
        "\n",
        "import pandas\n",
        "import pandasql\n",
        "\n",
        "def select_first_50(filename):\n",
        "    # Read in our aadhaar_data csv to a pandas dataframe.  Afterwards, we rename the columns\n",
        "    # by replacing spaces with underscores and setting all characters to lowercase, so the\n",
        "    # column names more closely resemble columns names one might find in a table.\n",
        "    aadhaar_data = pandas.read_csv(filename)\n",
        "    aadhaar_data.rename(columns = lambda x: x.replace(' ', '_').lower(), inplace=True)\n",
        "\n",
        "    # Select out the first 50 values for \"registrar\" and \"enrolment_agency\"\n",
        "    # in the aadhaar_data table using SQL syntax. \n",
        "    #\n",
        "    # Note that \"enrolment_agency\" is spelled with one l. Also, the order\n",
        "    # of the select does matter. Make sure you select registrar then enrolment agency\n",
        "    # in your query.\n",
        "    #\n",
        "    # You can download a copy of the aadhaar data that we are passing \n",
        "    # into this exercise below:\n",
        "    # https://s3.amazonaws.com/content.udacity-data.com/courses/ud359/aadhaar_data.csv\n",
        "    q = \"\"\"SELECT registrar,enrolment_agency\n",
        "    FROM aadhaar_data\n",
        "    LIMIT 50;\n",
        "    \"\"\"\n",
        "\n",
        "    #Execute your SQL command against the pandas frame\n",
        "    aadhaar_solution = pandasql.sqldf(q.lower(), locals())\n",
        "    return aadhaar_solution"
      ],
      "execution_count": null,
      "outputs": []
    },
    {
      "cell_type": "code",
      "metadata": {
        "id": "-1297SaF-KH2"
      },
      "source": [
        "#Write Your Own Complex Query\n",
        "\n",
        "import pandas\n",
        "import pandasql\n",
        "\n",
        "def aggregate_query(filename):\n",
        "    # Read in our aadhaar_data csv to a pandas dataframe.  Afterwards, we rename the columns\n",
        "    # by replacing spaces with underscores and setting all characters to lowercase, so the\n",
        "    # column names more closely resemble columns names one might find in a table.\n",
        "    \n",
        "    aadhaar_data = pandas.read_csv(filename)\n",
        "    aadhaar_data.rename(columns = lambda x: x.replace(' ', '_').lower(), inplace=True)\n",
        "\n",
        "    # Write a query that will select from the aadhaar_data table how many men and how \n",
        "    # many women over the age of 50 have had aadhaar generated for them in each district.\n",
        "    # aadhaar_generated is a column in the Aadhaar Data that denotes the number who have had\n",
        "    # aadhaar generated in each row of the table.\n",
        "    #\n",
        "    # Note that in this quiz, the SQL query keywords are case sensitive. \n",
        "    # For example, if you want to do a sum make sure you type 'sum' rather than 'SUM'.\n",
        "    #\n",
        "\n",
        "    # The possible columns to select from aadhaar data are:\n",
        "    #     1) registrar\n",
        "    #     2) enrolment_agency\n",
        "    #     3) state\n",
        "    #     4) district\n",
        "    #     5) sub_district\n",
        "    #     6) pin_code\n",
        "    #     7) gender\n",
        "    #     8) age\n",
        "    #     9) aadhaar_generated\n",
        "    #     10) enrolment_rejected\n",
        "    #     11) residents_providing_email,\n",
        "    #     12) residents_providing_mobile_number\n",
        "    #\n",
        "    # You can download a copy of the aadhaar data that we are passing \n",
        "    # into this exercise below:\n",
        "    # https://s3.amazonaws.com/content.udacity-data.com/courses/ud359/aadhaar_data.csv\n",
        "        \n",
        "    q = \"\"\"SELECT gender,district,sum(aadhaar_generated)\n",
        "    FROM aadhaar_data\n",
        "    WHERE age > 50\n",
        "    GROUP BY gender,district;\"\"\"\n",
        "\n",
        "    # Execute your SQL command against the pandas frame\n",
        "    aadhaar_solution = pandasql.sqldf(q.lower(), locals())\n",
        "    return aadhaar_solution"
      ],
      "execution_count": null,
      "outputs": []
    },
    {
      "cell_type": "code",
      "metadata": {
        "id": "GsSPZj5StOST"
      },
      "source": [
        "#API Exercise"
      ],
      "execution_count": null,
      "outputs": []
    },
    {
      "cell_type": "code",
      "metadata": {
        "id": "kR61satXtSQG"
      },
      "source": [
        "#Imputation Exercise\n",
        "\n",
        "import pandas\n",
        "import numpy\n",
        "\n",
        "def imputation(filename):\n",
        "    # Pandas dataframes have a method called 'fillna(value)', such that you can\n",
        "    # pass in a single value to replace any NAs in a dataframe or series. You\n",
        "    # can call it like this: \n",
        "    #     dataframe['column'] = dataframe['column'].fillna(value)\n",
        "    #\n",
        "    # Using the numpy.mean function, which calculates the mean of a numpy\n",
        "    # array, impute any missing values in our Lahman baseball\n",
        "    # data sets 'weight' column by setting them equal to the average weight.\n",
        "    # \n",
        "    # You can access the 'weight' colum in the baseball data frame by\n",
        "    # calling baseball['weight']     \n",
        "    #YOUR CODE GOES HERE\n",
        "\n",
        "    baseball = pandas.read_csv(filename)\n",
        "    mean = numpy.mean(baseball['weight'])\n",
        "    baseball['weight'] = baseball['weight'].fillna(mean)\n",
        "    return baseball"
      ],
      "execution_count": null,
      "outputs": []
    }
  ]
}