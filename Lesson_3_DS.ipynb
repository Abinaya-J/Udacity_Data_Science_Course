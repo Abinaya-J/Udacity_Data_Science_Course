{
  "nbformat": 4,
  "nbformat_minor": 0,
  "metadata": {
    "colab": {
      "name": "Lesson 3 DS.ipynb",
      "provenance": [],
      "authorship_tag": "ABX9TyPag+llxlFbzZvIrR33PX5d",
      "include_colab_link": true
    },
    "kernelspec": {
      "name": "python3",
      "display_name": "Python 3"
    }
  },
  "cells": [
    {
      "cell_type": "markdown",
      "metadata": {
        "id": "view-in-github",
        "colab_type": "text"
      },
      "source": [
        "<a href=\"https://colab.research.google.com/github/Abinaya-J/Udacity_Intro_to_Data_Science/blob/master/Lesson_3_DS.ipynb\" target=\"_parent\"><img src=\"https://colab.research.google.com/assets/colab-badge.svg\" alt=\"Open In Colab\"/></a>"
      ]
    },
    {
      "cell_type": "code",
      "metadata": {
        "id": "9MNP6iFcsm78",
        "colab_type": "code",
        "colab": {}
      },
      "source": [
        "import pandas\n",
        "\n",
        "def add_full_name(path_to_csv, path_to_new_csv):\n",
        "    #Assume you will be reading in a csv file with the same columns that the\n",
        "    #Lahman baseball data set has -- most importantly, there are columns\n",
        "    #called 'nameFirst' and 'nameLast'.\n",
        "    #1) Write a function that reads a csv\n",
        "    #located at \"path_to_csv\" into a pandas dataframe and adds a new column\n",
        "    #called 'nameFull' with a player's full name.\n",
        "    #\n",
        "    #For example:\n",
        "    #   for Hank Aaron, nameFull would be 'Hank Aaron', \n",
        "\t#\n",
        "\t#2) Write the data in the pandas dataFrame to a new csv file located at\n",
        "\t#path_to_new_csv\n",
        "\n",
        "    path_to_csv_data = pandas.read_csv(path_to_csv)\n",
        "    path_to_csv_data['nameFull'] = path_to_csv_data['nameFirst'] + ' ' + path_to_csv_data['nameLast'] \n",
        "    path_to_csv_data.to_csv(path_to_new_csv)"
      ],
      "execution_count": null,
      "outputs": []
    }
  ]
}