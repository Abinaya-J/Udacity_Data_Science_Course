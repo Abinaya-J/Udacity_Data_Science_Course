{
  "nbformat": 4,
  "nbformat_minor": 0,
  "metadata": {
    "colab": {
      "name": "Lesson 6 DS.ipynb",
      "provenance": [],
      "authorship_tag": "ABX9TyMJnYAqrV5viIecSPzXQGW+",
      "include_colab_link": true
    },
    "kernelspec": {
      "name": "python3",
      "display_name": "Python 3"
    }
  },
  "cells": [
    {
      "cell_type": "markdown",
      "metadata": {
        "id": "view-in-github",
        "colab_type": "text"
      },
      "source": [
        "<a href=\"https://colab.research.google.com/github/Abinaya-J/Udacity_Intro_to_Data_Science/blob/master/Lesson_6_DS.ipynb\" target=\"_parent\"><img src=\"https://colab.research.google.com/assets/colab-badge.svg\" alt=\"Open In Colab\"/></a>"
      ]
    },
    {
      "cell_type": "code",
      "metadata": {
        "id": "ztyb0ZOn7p_R"
      },
      "source": [
        "#Exploratory Data Analysis\n",
        "\n",
        "import numpy as np\n",
        "import pandas\n",
        "import matplotlib.pyplot as plt\n",
        "\n",
        "def entries_histogram(turnstile_weather):\n",
        "    '''\n",
        "    Before we perform any analysis, it might be useful to take a\n",
        "    look at the data we're hoping to analyze. More specifically, let's \n",
        "    examine the hourly entries in our NYC subway data and determine what\n",
        "    distribution the data follows. This data is stored in a dataframe\n",
        "    called turnstile_weather under the ['ENTRIESn_hourly'] column.\n",
        "    \n",
        "    Let's plot two histograms on the same axes to show hourly\n",
        "    entries when raining vs. when not raining. Here's an example on how\n",
        "    to plot histograms with pandas and matplotlib:\n",
        "    turnstile_weather['column_to_graph'].hist()\n",
        "    \n",
        "    Your histogram may look similar to bar graph in the instructor notes below.\n",
        "    \n",
        "    You can read a bit about using matplotlib and pandas to plot histograms here:\n",
        "    http://pandas.pydata.org/pandas-docs/stable/visualization.html#histograms\n",
        "    \n",
        "    You can see the information contained within the turnstile weather data here:\n",
        "    https://s3.amazonaws.com/content.udacity-data.com/courses/ud359/turnstile_data_master_with_weather.csv\n",
        "    '''\n",
        "    \n",
        "    plt.figure()\n",
        "    turnstile_weather[turnstile_weather['rain']==1]['ENTRIESn_hourly'].hist() \n",
        "    turnstile_weather[turnstile_weather['rain']==0]['ENTRIESn_hourly'].hist() \n",
        "    return plt\n"
      ],
      "execution_count": null,
      "outputs": []
    }
  ]
}