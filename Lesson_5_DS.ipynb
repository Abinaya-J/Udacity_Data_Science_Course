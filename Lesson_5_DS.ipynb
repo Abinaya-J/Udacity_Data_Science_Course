{
  "nbformat": 4,
  "nbformat_minor": 0,
  "metadata": {
    "colab": {
      "name": "Lesson 5 DS.ipynb",
      "provenance": [],
      "authorship_tag": "ABX9TyOmBSdCNYTNrz777+T4rUMu",
      "include_colab_link": true
    },
    "kernelspec": {
      "name": "python3",
      "display_name": "Python 3"
    }
  },
  "cells": [
    {
      "cell_type": "markdown",
      "metadata": {
        "id": "view-in-github",
        "colab_type": "text"
      },
      "source": [
        "<a href=\"https://colab.research.google.com/github/Abinaya-J/Udacity_Intro_to_Data_Science/blob/master/Lesson_5_DS.ipynb\" target=\"_parent\"><img src=\"https://colab.research.google.com/assets/colab-badge.svg\" alt=\"Open In Colab\"/></a>"
      ]
    },
    {
      "cell_type": "code",
      "metadata": {
        "id": "07e-ERuE9-07"
      },
      "source": [
        "#Welche's t-test\n",
        "import numpy\n",
        "import scipy.stats\n",
        "import pandas\n",
        "\n",
        "    \"\"\"\n",
        "    Performs a t-test on two sets of baseball data (left-handed and right-handed hitters).\n",
        "\n",
        "    You will be given a csv file that has three columns.  A player's\n",
        "    name, handedness (L for lefthanded or R for righthanded) and their\n",
        "    career batting average (called 'avg'). You can look at the csv\n",
        "    file by downloading the baseball_stats file from Downloadables below. \n",
        "    \n",
        "    Write a function that will read that the csv file into a pandas data frame,\n",
        "    and run Welch's t-test on the two cohorts defined by handedness.\n",
        "    \n",
        "    One cohort should be a data frame of right-handed batters. And the other\n",
        "    cohort should be a data frame of left-handed batters.\n",
        "    \n",
        "    We have included the scipy.stats library to help you write\n",
        "    or implement Welch's t-test:\n",
        "    http://docs.scipy.org/doc/scipy/reference/stats.html\n",
        "    \n",
        "    With a significance level of 95%, if there is no difference\n",
        "    between the two cohorts, return a tuple consisting of\n",
        "    True, and then the tuple returned by scipy.stats.ttest.  \n",
        "    \n",
        "    If there is a difference, return a tuple consisting of\n",
        "    False, and then the tuple returned by scipy.stats.ttest.\n",
        "    \n",
        "    For example, the tuple that you return may look like:\n",
        "    (True, (9.93570222, 0.000023))\n",
        "    \"\"\"\n",
        "\n",
        "def compare_averages(filename):\n",
        "    baseball_data=pandas.read_csv('filename')\n",
        "    baseball_left=baseball_data[baseball_data['handedness']=='L']\n",
        "    baseball_right=baseball_data[baseball_data['handedness']=='R']\n",
        "    output=scipy.stats.ttest_ind( baseball_left['avg'],baseball_right['avg'],equal_var=False)\n",
        "    if output[1]<=0.05:\n",
        "        return(False,output)\n",
        "    else:\n",
        "        return(True,output)"
      ],
      "execution_count": null,
      "outputs": []
    },
    {
      "cell_type": "code",
      "metadata": {
        "id": "l6HQbG9w-ssr"
      },
      "source": [
        "#Gradient Descent in Python\n",
        "import numpy\n",
        "import pandas\n",
        "\n",
        "def compute_cost(features, values, theta):\n",
        "    \"\"\"\n",
        "    Compute the cost of a list of parameters, theta, given a list of features \n",
        "    (input data points) and values (output data points).\n",
        "    \"\"\"\n",
        "    m = len(values)\n",
        "    sum_of_square_errors = numpy.square(numpy.dot(features, theta) - values).sum()\n",
        "    cost = sum_of_square_errors / (2*m)\n",
        "\n",
        "    return cost\n",
        "\n",
        "def gradient_descent(features, values, theta, alpha, num_iterations):\n",
        "    \"\"\"\n",
        "    Perform gradient descent given a data set with an arbitrary number of features.\n",
        "    \"\"\"\n",
        "\n",
        "    # Write code here that performs num_iterations updates to the elements of theta.\n",
        "    # times. Every time you compute the cost for a given list of thetas, append it \n",
        "    # to cost_history.\n",
        "    # See the Instructor notes for hints. \n",
        "    m=len(values)\n",
        "    cost_history = []\n",
        "    \n",
        "    for i in range(num_iterations):\n",
        "        pred_values=numpy.dot(features,theta)\n",
        "        theta = theta+ (alpha/m * numpy.dot(values-pred_values,features))\n",
        "        cost=compute_cost(features,values,theta)\n",
        "        cost_history.append(cost)\n",
        "\n",
        "    return theta, pandas.Series(cost_history) # leave this line for the grader"
      ],
      "execution_count": null,
      "outputs": []
    }
  ]
}