{
  "nbformat": 4,
  "nbformat_minor": 0,
  "metadata": {
    "colab": {
      "name": "Lesson 4 DS.ipynb",
      "provenance": [],
      "authorship_tag": "ABX9TyPDZ6/wSyD4rS5lLit7JUx+",
      "include_colab_link": true
    },
    "kernelspec": {
      "name": "python3",
      "display_name": "Python 3"
    }
  },
  "cells": [
    {
      "cell_type": "markdown",
      "metadata": {
        "id": "view-in-github",
        "colab_type": "text"
      },
      "source": [
        "<a href=\"https://colab.research.google.com/github/Abinaya-J/Udacity_Intro_to_Data_Science/blob/master/Lesson_4_DS.ipynb\" target=\"_parent\"><img src=\"https://colab.research.google.com/assets/colab-badge.svg\" alt=\"Open In Colab\"/></a>"
      ]
    },
    {
      "cell_type": "code",
      "metadata": {
        "id": "nXVXzrp1aLpM"
      },
      "source": [
        "#Number of Rainy Days\n",
        "import pandas\n",
        "import pandasql\n",
        "\n",
        "\n",
        "def num_rainy_days(filename):\n",
        "    '''\n",
        "    This function should run a SQL query on a dataframe of\n",
        "    weather data.  The SQL query should return one column and\n",
        "    one row - a count of the number of days in the dataframe where\n",
        "    the rain column is equal to 1 (i.e., the number of days it\n",
        "    rained).  The dataframe will be titled 'weather_data'. You'll\n",
        "    need to provide the SQL query.  You might find SQL's count function\n",
        "    useful for this exercise.  You can read more about it here:\n",
        "    \n",
        "    https://dev.mysql.com/doc/refman/5.1/en/counting-rows.html\n",
        "    \n",
        "    You might also find that interpreting numbers as integers or floats may not\n",
        "    work initially.  In order to get around this issue, it may be useful to cast\n",
        "    these numbers as integers.  This can be done by writing cast(column as integer).\n",
        "    So for example, if we wanted to cast the maxtempi column as an integer, we would actually\n",
        "    write something like where cast(maxtempi as integer) = 76, as opposed to simply \n",
        "    where maxtempi = 76.\n",
        "    \n",
        "    You can see the weather data that we are passing in below:\n",
        "    https://s3.amazonaws.com/content.udacity-data.com/courses/ud359/weather_underground.csv\n",
        "    '''\n",
        "    weather_data = pandas.read_csv(filename)\n",
        "\n",
        "    q = \"\"\"SELECT COUNT(date) num_days_rained\n",
        "    FROM weather_data\n",
        "    WHERE CAST(rain AS integer) = 1;\n",
        "    \"\"\"\n",
        "    \n",
        "    #Execute your SQL command against the pandas frame\n",
        "    rainy_days = pandasql.sqldf(q.lower(), locals())\n",
        "    return rainy_days"
      ],
      "execution_count": null,
      "outputs": []
    },
    {
      "cell_type": "code",
      "metadata": {
        "id": "X7OOUMDoa0To"
      },
      "source": [
        "#Temp on Foggy and Nonfoggy Days\n",
        "import pandas\n",
        "import pandasql\n",
        "\n",
        "\n",
        "def max_temp_aggregate_by_fog(filename):\n",
        "    '''\n",
        "    This function should run a SQL query on a dataframe of\n",
        "    weather data.  The SQL query should return two columns and\n",
        "    two rows - whether it was foggy or not (0 or 1) and the max\n",
        "    maxtempi for that fog value (i.e., the maximum max temperature\n",
        "    for both foggy and non-foggy days).  The dataframe will be \n",
        "    titled 'weather_data'. You'll need to provide the SQL query.\n",
        "    \n",
        "    You might also find that interpreting numbers as integers or floats may not\n",
        "    work initially.  In order to get around this issue, it may be useful to cast\n",
        "    these numbers as integers.  This can be done by writing cast(column as integer).\n",
        "    So for example, if we wanted to cast the maxtempi column as an integer, we would actually\n",
        "    write something like where cast(maxtempi as integer) = 76, as opposed to simply \n",
        "    where maxtempi = 76.\n",
        "    \n",
        "    You can see the weather data that we are passing in below:\n",
        "    https://s3.amazonaws.com/content.udacity-data.com/courses/ud359/weather_underground.csv\n",
        "    '''\n",
        "    weather_data = pandas.read_csv(filename)\n",
        "\n",
        "    q = \"\"\"SELECT fog,MAX(CAST(maxtempi AS integer))\n",
        "    FROM weather_data\n",
        "    GROUP BY 1;\n",
        "    \"\"\"\n",
        "    \n",
        "    #Execute your SQL command against the pandas frame\n",
        "    foggy_days = pandasql.sqldf(q.lower(), locals())\n",
        "    return foggy_days"
      ],
      "execution_count": null,
      "outputs": []
    }
  ]
}