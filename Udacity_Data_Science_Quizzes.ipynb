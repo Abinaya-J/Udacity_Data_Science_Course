{
  "nbformat": 4,
  "nbformat_minor": 0,
  "metadata": {
    "colab": {
      "name": "Udacity_Data_Science_Quizzes.ipynb",
      "provenance": []
    },
    "kernelspec": {
      "name": "python3",
      "display_name": "Python 3"
    }
  },
  "cells": [
    {
      "cell_type": "code",
      "metadata": {
        "id": "UB7yT2jAx6c-",
        "colab_type": "code",
        "colab": {
          "base_uri": "https://localhost:8080/",
          "height": 128
        },
        "outputId": "d6c08227-db57-4ccc-9f8e-0483233e59c0"
      },
      "source": [
        "import numpy as np\n",
        "\n",
        "'''\n",
        "The following code is to help you play with Numpy, which is a library \n",
        "that provides functions that are especially useful when you have to\n",
        "work with large arrays and matrices of numeric data, like doing \n",
        "matrix matrix multiplications. Also, Numpy is battle tested and \n",
        "optimized so that it runs fast, much faster than if you were working\n",
        "with Python lists directly.\n",
        "'''\n",
        "\n",
        "'''\n",
        "The array object class is the foundation of Numpy, and Numpy arrays are like\n",
        "lists in Python, except that every thing inside an array must be of the\n",
        "same type, like int or float.\n",
        "'''\n",
        "# Change False to True to see Numpy arrays in action\n",
        "if False:\n",
        "    array = np.array([1, 4, 5, 8], float)\n",
        "    print array\n",
        "    print \"\"\n",
        "    array = np.array([[1, 2, 3], [4, 5, 6]], float)  # a 2D array/Matrix\n",
        "    print array\n",
        "\n",
        "'''\n",
        "You can index, slice, and manipulate a Numpy array much like you would with a\n",
        "a Python list.\n",
        "'''\n",
        "# Change False to True to see array indexing and slicing in action\n",
        "if False:\n",
        "    array = np.array([1, 4, 5, 8], float)\n",
        "    print array\n",
        "    print \"\"\n",
        "    print array[1]\n",
        "    print \"\"\n",
        "    print array[:2]\n",
        "    print \"\"\n",
        "    array[1] = 5.0\n",
        "    print array[1]\n",
        "\n",
        "# Change False to True to see Matrix indexing and slicing in action\n",
        "if True:\n",
        "    two_D_array = np.array([[1, 2, 3], [4, 5, 6]], float)\n",
        "    print two_D_array\n",
        "    print \"\"\n",
        "    print two_D_array[1][1]\n",
        "    print \"\"\n",
        "    print two_D_array[1, :]\n",
        "    print \"\"\n",
        "    print two_D_array[:, 2]\n",
        "\n",
        "'''\n",
        "Here are some arithmetic operations that you can do with Numpy arrays\n",
        "'''\n",
        "# Change False to True to see Array arithmetics in action\n",
        "if False:\n",
        "    array_1 = np.array([1, 2, 3], float)\n",
        "    array_2 = np.array([5, 2, 6], float)\n",
        "    print array_1 + array_2\n",
        "    print \"\"\n",
        "    print array_1 - array_2\n",
        "    print \"\"\n",
        "    print array_1 * array_2\n",
        "\n",
        "# Change False to True to see Matrix arithmetics in action\n",
        "if False:\n",
        "    array_1 = np.array([[1, 2], [3, 4]], float)\n",
        "    array_2 = np.array([[5, 6], [7, 8]], float)\n",
        "    print array_1 + array_2\n",
        "    print \"\"\n",
        "    print array_1 - array_2\n",
        "    print \"\"\n",
        "    print array_1 * array_2\n",
        "\n",
        "'''\n",
        "In addition to the standard arthimetic operations, Numpy also has a range of\n",
        "other mathematical operations that you can apply to Numpy arrays, such as\n",
        "mean and dot product.\n",
        "\n",
        "Both of these functions will be useful in later programming quizzes.\n",
        "'''\n",
        "if False:\n",
        "    array_1 = np.array([1, 2, 3], float)\n",
        "    array_2 = np.array([[6], [7], [8]], float)\n",
        "    print np.mean(array_1)\n",
        "    print np.mean(array_2)\n",
        "    print \"\"\n",
        "    print np.dot(array_1, array_2)\n"
      ],
      "execution_count": null,
      "outputs": [
        {
          "output_type": "error",
          "ename": "SyntaxError",
          "evalue": "ignored",
          "traceback": [
            "\u001b[0;36m  File \u001b[0;32m\"<ipython-input-1-6d878c94ffc5>\"\u001b[0;36m, line \u001b[0;32m20\u001b[0m\n\u001b[0;31m    print array\u001b[0m\n\u001b[0m              ^\u001b[0m\n\u001b[0;31mSyntaxError\u001b[0m\u001b[0;31m:\u001b[0m Missing parentheses in call to 'print'. Did you mean print(array)?\n"
          ]
        }
      ]
    }
  ]
}