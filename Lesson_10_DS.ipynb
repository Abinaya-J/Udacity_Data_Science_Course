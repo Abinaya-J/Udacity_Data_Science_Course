{
  "nbformat": 4,
  "nbformat_minor": 0,
  "metadata": {
    "colab": {
      "name": "Lesson 10 DS.ipynb",
      "provenance": [],
      "authorship_tag": "ABX9TyMYO9Ayf3wt30IfS/6qGnrN",
      "include_colab_link": true
    },
    "kernelspec": {
      "name": "python3",
      "display_name": "Python 3"
    }
  },
  "cells": [
    {
      "cell_type": "markdown",
      "metadata": {
        "id": "view-in-github",
        "colab_type": "text"
      },
      "source": [
        "<a href=\"https://colab.research.google.com/github/Abinaya-J/Udacity_Intro_to_Data_Science/blob/master/Lesson_10_DS.ipynb\" target=\"_parent\"><img src=\"https://colab.research.google.com/assets/colab-badge.svg\" alt=\"Open In Colab\"/></a>"
      ]
    },
    {
      "cell_type": "code",
      "metadata": {
        "id": "K5_74V8_ph4p"
      },
      "source": [
        "# Ridership per station- mapper\n",
        "\n",
        "import sys\n",
        "import string\n",
        "import logging\n",
        "\n",
        "from util import mapper_logfile\n",
        "logging.basicConfig(filename=mapper_logfile, format='%(message)s',\n",
        "                    level=logging.INFO, filemode='w')\n",
        "\n",
        "def mapper():\n",
        "    \"\"\"\n",
        "    The input to this mapper will be the final Subway-MTA dataset, the same as\n",
        "    in the previous exercise.  You can check out the csv and its structure below:\n",
        "    https://s3.amazonaws.com/content.udacity-data.com/courses/ud359/turnstile_data_master_with_weather.csv\n",
        "\n",
        "    For each line of input, the mapper output should PRINT (not return) the UNIT as \n",
        "    the key, the number of ENTRIESn_hourly as the value, and separate the key and \n",
        "    the value by a tab. For example: 'R002\\t105105.0'\n",
        "\n",
        "    Since you are printing the output of your program, printing a debug \n",
        "    statement will interfere with the operation of the grader. Instead, \n",
        "    use the logging module, which we've configured to log to a file printed \n",
        "    when you click \"Test Run\". For example:\n",
        "    logging.info(\"My debugging message\")\n",
        "    Note that, unlike print, logging.info will take only a single argument.\n",
        "    So logging.info(\"my message\") will work, but logging.info(\"my\",\"message\") will not.\n",
        "    \n",
        "    The logging module can be used to give you more control over your debugging\n",
        "    or other messages than you can get by printing them. In this exercise, print\n",
        "    statements from your mapper will go to your reducer, and print statements\n",
        "    from your reducer will be considered your final output. By contrast, messages\n",
        "    logged via the loggers we configured will be saved to two files, one\n",
        "    for the mapper and one for the reducer. If you click \"Test Run\", then we\n",
        "    will show the contents of those files once your program has finished running.\n",
        "    The logging module also has other capabilities; see \n",
        "    https://docs.python.org/2/library/logging.html for more information.\n",
        "    \"\"\"\n",
        "\n",
        "    for line in sys.stdin:\n",
        "        data = line.strip().split(',')\n",
        "        if data[1] != 'UNIT' and len(data) == 22:\n",
        "            print '{0}\\t{1}'.format(data[1], data[6])\n",
        "\n",
        "mapper()\n"
      ],
      "execution_count": null,
      "outputs": []
    }
  ]
}