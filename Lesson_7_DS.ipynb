{
  "nbformat": 4,
  "nbformat_minor": 0,
  "metadata": {
    "colab": {
      "name": "Lesson 7 DS",
      "provenance": [],
      "authorship_tag": "ABX9TyMpdjAq2ZyyEaeotRKxAKk8",
      "include_colab_link": true
    },
    "kernelspec": {
      "name": "python3",
      "display_name": "Python 3"
    }
  },
  "cells": [
    {
      "cell_type": "markdown",
      "metadata": {
        "id": "view-in-github",
        "colab_type": "text"
      },
      "source": [
        "<a href=\"https://colab.research.google.com/github/Abinaya-J/Udacity_Intro_to_Data_Science/blob/master/Lesson_7_DS.ipynb\" target=\"_parent\"><img src=\"https://colab.research.google.com/assets/colab-badge.svg\" alt=\"Open In Colab\"/></a>"
      ]
    },
    {
      "cell_type": "code",
      "metadata": {
        "id": "mqYkiWtFJXa1"
      },
      "source": [
        "#Plotting in python\n",
        "\n",
        "from pandas import *\n",
        "from ggplot import *\n",
        "\n",
        "import pandas\n",
        "\n",
        "\n",
        "    # A csv file will be passed in as an argument which\n",
        "    # contains two columns -- 'HR' (the number of homerun hits)\n",
        "    # and 'yearID' (the year in which the homeruns were hit).\n",
        "    #\n",
        "    # Fill out the body of this function, lineplot, to use the\n",
        "    # passed-in csv file, hr_year.csv, and create a\n",
        "    # chart with points connected by lines, both colored 'red',\n",
        "    # showing the number of HR by year.\n",
        "    #\n",
        "    # You will want to first load the csv file into a pandas dataframe\n",
        "    # and use the pandas dataframe along with ggplot to create your visualization\n",
        "    #\n",
        "    # You can check out the data in the csv file at the link below:\n",
        "    # https://s3.amazonaws.com/content.udacity-data.com/courses/ud359/hr_year.csv\n",
        "    #\n",
        "    # You can read more about ggplot at the following link:\n",
        "    # https://github.com/yhat/ggplot/\n",
        "    \n",
        "def lineplot(hr_year_csv):    \n",
        "    data=pandas.read_csv('hr_year.csv')\n",
        "    gg = ggplot(data,aes('yearID','HR')) + geom_point(color='red') + geom_line(color='red') + xlab('year') + ylab('Home runs scored')\n",
        "    return gg"
      ],
      "execution_count": null,
      "outputs": []
    },
    {
      "cell_type": "code",
      "metadata": {
        "id": "pAvKfvhEJkM7"
      },
      "source": [
        "#Plotting in line charts\n",
        "\n",
        "\n",
        "import pandas as pd\n",
        "\n",
        "from ggplot import *\n",
        "\n",
        "\n",
        "def lineplot_compare(hr_by_team_year_sf_la_csv):\n",
        "    # Write a function, lineplot_compare, that will read a csv file\n",
        "    # called hr_by_team_year_sf_la.csv and plot it using pandas and ggplot.\n",
        "    #\n",
        "    # This csv file has three columns: yearID, HR, and teamID. The data in the\n",
        "    # file gives the total number of home runs hit each year by the SF Giants \n",
        "    # (teamID == 'SFN') and the LA Dodgers (teamID == \"LAN\"). Produce a \n",
        "    # visualization comparing the total home runs by year of the two teams. \n",
        "    # \n",
        "    # You can see the data in hr_by_team_year_sf_la_csv\n",
        "    # at the link below:\n",
        "    # https://s3.amazonaws.com/content.udacity-data.com/courses/ud359/hr_by_team_year_sf_la.csv\n",
        "    #\n",
        "    # Note that to differentiate between multiple categories on the \n",
        "    # same plot in ggplot, we can pass color in with the other arguments\n",
        "    # to aes, rather than in our geometry functions. For example, \n",
        "    # ggplot(data, aes(xvar, yvar, color=category_var)). This might help you \n",
        "    # in this exercise.\n",
        "    \n",
        "    data = pd.read_csv(hr_by_team_year_sf_la_csv)\n",
        "    gg = ggplot(data, aes('yearID','HR', color= 'teamID')) + ggtitle('Total homeruns in a year') + xlab('Team') + ylab('Home runs scored')\n",
        "    return gg"
      ],
      "execution_count": null,
      "outputs": []
    }
  ]
}